{
 "cells": [
  {
   "cell_type": "markdown",
   "metadata": {
    "slideshow": {
     "slide_type": "-"
    }
   },
   "source": [
    "# Project 3 Assignment - Lander design\n",
    "\n",
    "This notebook contains the assignment for Project 3. Discuss your solution approach and results in a report using the `project_report_template.docx` template file. **Your report should not be longer than 5 pages (NOT including references and appendix).** Use the `lander.py` module to define useful functions. Use the `analysis.ipynb` notebook to perform your analysis and create your report figures.\n",
    "\n",
    "Your project grade will be based on the following (in order of importance):\n",
    "\n",
    "- communication of your approach and results (including organization, visualizations, and writing),\n",
    "- correctness of your code,\n",
    "- readability of your code.\n",
    "\n",
    "Your design requirements are as follows (assuming positive axis is up):\n",
    "\n",
    "- land on Mars,\n",
    "- initial conditions are ($h_0 = 20$ $m$, $v_0 = 0$ $m/s$, $a_0 = 0$ $m/s^2$),\n",
    "- maximum landing velocity ($v_{max} = -3$ $m/s$),\n",
    "- body mass is $m_b = 0.66$ $kg$,\n",
    "- body diameter is $d = 0.0762$ $m$,\n",
    "- body length is $l = 0.5$ $m$,\n",
    "- fin mass is $m_f = 0.05$ $kg$ (per fin),\n",
    "- fin height is $h = 0.064$ $m$,\n",
    "- fin width is $w = 0.099$ $m$,\n",
    "- number of fins is $m_f = 3$,\n",
    "- thruster efficiency is $e = 0.25$ (for all thrusters).\n",
    "\n",
    "Your design parameters are as follows:\n",
    "\n",
    "- ignition time $t_{ign}$,\n",
    "- thruster."
   ]
  },
  {
   "cell_type": "markdown",
   "metadata": {},
   "source": [
    "# Part 0 - Get data\n",
    "\n",
    "Get the data for this project using the following Box link:\n",
    "\n",
    "https://uofi.box.com/s/18jge278wziz8cepzvkewc8htcxzv1id\n",
    "\n",
    "The dataset contains thrust curves for five different thrusters used in the AE442 Senior Design (Space) project in Fall 2019. The dataset also contains some example figures."
   ]
  },
  {
   "cell_type": "markdown",
   "metadata": {
    "slideshow": {
     "slide_type": "-"
    }
   },
   "source": [
    "# Part 1 - Create a lander module to simulate and explore lander designs\n",
    "\n",
    "Create a `lander.py` file defining a module that can do the following:\n",
    "\n",
    "1. simulate landing for a given lander design (with corresponding force estimation functions),\n",
    "1. create a $2^2$ factorial experimental design,\n",
    "1. create an $M \\times N$ factorial experimental design,\n",
    "1. run a factorial experiment using your simulation.\n",
    "\n",
    "The listed items are some suggested functions that might help you organize the code for this project. You are free to organize your module as you want (i.e., you can define as many or as few functions as you want), provided your module can at least do the listed items."
   ]
  },
  {
   "cell_type": "markdown",
   "metadata": {},
   "source": [
    "# Part 2 - Identify reasonable default simulation parameters for the given design requirements\n",
    "\n",
    "1. Run some simulations to identify reasonable values and ranges for $t_{final}$, $t_{step}$, and $t_{ign}$.\n",
    "1. Use those simulations to define a baseline set of simulation parameters."
   ]
  },
  {
   "cell_type": "markdown",
   "metadata": {},
   "source": [
    "# Part 3 - Implement a $2^2$ factorial experiment to understand main effects and interactions\n",
    "\n",
    "1. Implement a $2^2$ factorial experiment with the ignition time and thruster choice as factors and your landing velocity as the response.\n",
    "1. Plot the main effects and interactions of your experiment.\n",
    "\n",
    "See `example-effects-interactions.png` for an example main effects and interactions plot."
   ]
  },
  {
   "cell_type": "markdown",
   "metadata": {},
   "source": [
    "# Part 4 - Implement a full factorial experiment to select a design\n",
    "\n",
    "1. Implement an $N \\times M$ full factorial experiment with the ignition time ($N$ factor levels) and thruster ($M$ factor levels) as factors and your landing velocity as the response.\n",
    "1. Plot the design space (e.g., using a heatmap of ignition time vs. thruster, colored by landing velocity).\n",
    "1. Identify the best design solution from this experiment.\n",
    "\n",
    "See `example-heatmap.png` for an example heatmap of the design space from my full factorial experiment."
   ]
  },
  {
   "cell_type": "markdown",
   "metadata": {},
   "source": [
    "# Part 5 - Explore the impact of changing your design requirements on your design performance\n",
    "\n",
    "One approach to visualizing these results is to create contour plots that show the performance of your design as a function of design requirements (e.g., initial conditions, body mass, planet air density, planet gravitational constant).\n",
    "\n",
    "See `example-contour-mars.png` for an example contour plot of how my selected design performs for varied design requirements (on Mars)."
   ]
  },
  {
   "cell_type": "code",
   "execution_count": null,
   "metadata": {},
   "outputs": [],
   "source": []
  }
 ],
 "metadata": {
  "celltoolbar": "Slideshow",
  "kernelspec": {
   "display_name": "Python 3",
   "language": "python",
   "name": "python3"
  },
  "language_info": {
   "codemirror_mode": {
    "name": "ipython",
    "version": 3
   },
   "file_extension": ".py",
   "mimetype": "text/x-python",
   "name": "python",
   "nbconvert_exporter": "python",
   "pygments_lexer": "ipython3",
   "version": "3.7.6"
  }
 },
 "nbformat": 4,
 "nbformat_minor": 2
}

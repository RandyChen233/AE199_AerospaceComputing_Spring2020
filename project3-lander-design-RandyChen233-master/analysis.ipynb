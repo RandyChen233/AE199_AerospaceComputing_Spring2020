{
 "cells": [
  {
   "cell_type": "markdown",
   "metadata": {},
   "source": [
    "# Project 3 Analysis - Lander design\n",
    "\n",
    "This notebook contains the analysis for Project 3, using the `lander.py` module.\n",
    "\n",
    "The following is an example of how I set up my analysis notebook. You are free to modify this as you'd like."
   ]
  },
  {
   "cell_type": "markdown",
   "metadata": {},
   "source": [
    "## Import statements"
   ]
  },
  {
   "cell_type": "code",
   "execution_count": 3,
   "metadata": {},
   "outputs": [
    {
     "data": {
      "text/plain": [
       "<module 'lander' from 'C:\\\\Users\\\\Randy666\\\\documents\\\\projects\\\\ae199-spr-2020\\\\project3-lander-design-RandyChen233\\\\lander.py'>"
      ]
     },
     "execution_count": 3,
     "metadata": {},
     "output_type": "execute_result"
    }
   ],
   "source": [
    "import numpy as np\n",
    "import matplotlib.pyplot as plt\n",
    "import pandas as pd\n",
    "\n",
    "import importlib\n",
    "import lander as lander\n",
    "importlib.reload(lander)\n"
   ]
  },
  {
   "cell_type": "markdown",
   "metadata": {},
   "source": [
    "## Part 1: Define parameter defaults"
   ]
  },
  {
   "cell_type": "code",
   "execution_count": 4,
   "metadata": {},
   "outputs": [
    {
     "name": "stdout",
     "output_type": "stream",
     "text": [
      "    acceleration  velocity    thrust      drag   position   weight\n",
      "0      -3.711000  0.000000  0.000000  0.000000  20.000000  3.00591\n",
      "0      -3.710988 -0.185550  0.000000  0.000010  20.000000  3.00591\n",
      "0      -3.710952 -0.371099  0.000000  0.000039  19.990723  3.00591\n",
      "0      -3.710892 -0.556647  0.000000  0.000088  19.972168  3.00591\n",
      "0      -3.710808 -0.742192  0.000000  0.000156  19.944335  3.00591\n",
      "..           ...       ...       ...       ...        ...      ...\n",
      "0      -1.838111 -1.912729  1.516005  0.001035 -11.373545  3.00591\n",
      "0      -2.101004 -2.004634  1.302960  0.001137 -11.469181  3.00591\n",
      "0      -2.363872 -2.109684  1.089915  0.001259 -11.569413  3.00591\n",
      "0      -2.626711 -2.227878  0.876870  0.001404 -11.674897  3.00591\n",
      "0      -2.798872 -2.359213  0.737249  0.001574 -11.786291  3.00591\n",
      "\n",
      "[121 rows x 6 columns]\n",
      "t_land is 3.350000,v_land is -10.066572\n"
     ]
    }
   ],
   "source": [
    "#modules already defined in lander.py\n",
    "#running a trial simulation using the following default parameters\n",
    "\n",
    "body_params = {'body_mass': 0.66,\n",
    "               'body_diameter': 0.0762,\n",
    "               'body_length': 0.5,\n",
    "               'bod_cd': 1.2}\n",
    "fin_params = {'fin_mass': 0.05,\n",
    "              'fin_height': 0.064,\n",
    "              'fin_width': 0.099,\n",
    "              'fin_cd': 1.20,\n",
    "              'n_fins': 3}  \n",
    "initial_params = {'position': 20,\n",
    "                  'velocity': 0,\n",
    "                  'acceleration': 0}\n",
    "env_params = {'density': 0.020, # 0.020 kg/m^3 compared to 1.23 kg/m^3 on earth\n",
    "              'g': 3.711}   #gravitational acceleration on Mars\n",
    "sim_params = {'thruster_efficiency': 0.25,\n",
    "               'thrust_curve':'data/raw/thrust-curves/ATF22.csv',\n",
    "              't_ignition': 3.0,\n",
    "              't_step': 0.05,\n",
    "              't_final': 6}\n",
    "\n",
    "params_default =  {**body_params, **fin_params,**initial_params,**env_params,**sim_params}  #combining into a large dictionary-c\n",
    "\n",
    "experiment_trial,t_land_trial,v_land_trial = lander.simulation(params_default)\n",
    "print(experiment_trial)\n",
    "print('t_land is %2f,v_land is %2f'%(t_land_trial,v_land_trial))\n",
    "\n",
    "                        "
   ]
  },
  {
   "cell_type": "code",
   "execution_count": 5,
   "metadata": {},
   "outputs": [
    {
     "name": "stdout",
     "output_type": "stream",
     "text": [
      "                       thrust_curve  t_ignition  T_land     V_land\n",
      "0  data/raw/thrust-curves/ATF22.csv         3.0    3.35 -10.066572\n",
      "1    data/raw/thrust-curves/EB6.csv         7.0    3.35 -12.373260\n"
     ]
    }
   ],
   "source": [
    "#running a facorial experiment trial using random factor levels to check our funtions are running properly\n",
    "#Here ATF22 and EB6 are our thruster factors, and 3.0, 7.0 are our t_ignition factors\n",
    "factors_trial = {'thrust_curve': ['data/raw/thrust-curves/ATF22.csv','data/raw/thrust-curves/EB6.csv'], 't_ignition': [3.0, 7.0]}\n",
    "df_trial = lander.factorial_22(factors_trial)\n",
    "experiment_trial = lander.experiment(df_trial,params_default)\n",
    "print(experiment_trial)\n"
   ]
  },
  {
   "cell_type": "markdown",
   "metadata": {},
   "source": [
    "## Part 2: Identify Simulation Parameters\n"
   ]
  },
  {
   "cell_type": "code",
   "execution_count": 6,
   "metadata": {
    "scrolled": true
   },
   "outputs": [
    {
     "name": "stdout",
     "output_type": "stream",
     "text": [
      "                       thrust_curve  t_ignition\n",
      "0  data/raw/thrust-curves/ATF22.csv         2.5\n",
      "0  data/raw/thrust-curves/ATF22.csv         3.0\n",
      "0  data/raw/thrust-curves/ATF22.csv         3.5\n",
      "0  data/raw/thrust-curves/ATF22.csv         4.0\n",
      "0    data/raw/thrust-curves/EB6.csv         2.5\n",
      "0    data/raw/thrust-curves/EB6.csv         3.0\n",
      "0    data/raw/thrust-curves/EB6.csv         3.5\n",
      "0    data/raw/thrust-curves/EB6.csv         4.0\n",
      "0   data/raw/thrust-curves/EC11.csv         2.5\n",
      "0   data/raw/thrust-curves/EC11.csv         3.0\n",
      "0   data/raw/thrust-curves/EC11.csv         3.5\n",
      "0   data/raw/thrust-curves/EC11.csv         4.0\n",
      "0   data/raw/thrust-curves/ED12.csv         2.5\n",
      "0   data/raw/thrust-curves/ED12.csv         3.0\n",
      "0   data/raw/thrust-curves/ED12.csv         3.5\n",
      "0   data/raw/thrust-curves/ED12.csv         4.0\n",
      "0   data/raw/thrust-curves/EF15.csv         2.5\n",
      "0   data/raw/thrust-curves/EF15.csv         3.0\n",
      "0   data/raw/thrust-curves/EF15.csv         3.5\n",
      "0   data/raw/thrust-curves/EF15.csv         4.0\n"
     ]
    }
   ],
   "source": [
    "#1.constructing a MxN factor dictionary :\n",
    "factors_MN = {'thrust_curve': ['data/raw/thrust-curves/ATF22.csv','data/raw/thrust-curves/EB6.csv','data/raw/thrust-curves/EC11.csv',\n",
    "                             'data/raw/thrust-curves/ED12.csv','data/raw/thrust-curves/EF15.csv'],\n",
    "              't_ignition':[2.5,3.0,3.5,4.0]}\n",
    "#2. use the facorial_MN function defined in the lander.py module\n",
    "df_MN = lander.factorial_MN(factors_MN)\n",
    "print(df_MN)\n"
   ]
  },
  {
   "cell_type": "code",
   "execution_count": 7,
   "metadata": {},
   "outputs": [
    {
     "name": "stdout",
     "output_type": "stream",
     "text": [
      "                       thrust_curve  t_ignition  T_land     V_land\n",
      "0  data/raw/thrust-curves/ATF22.csv         2.5    3.85  -2.857144\n",
      "0  data/raw/thrust-curves/ATF22.csv         3.0    3.35 -10.066572\n",
      "0  data/raw/thrust-curves/ATF22.csv         3.5    3.35 -12.373260\n",
      "0  data/raw/thrust-curves/ATF22.csv         4.0    3.35 -12.373260\n",
      "0    data/raw/thrust-curves/EB6.csv         2.5    3.40 -11.228349\n",
      "0    data/raw/thrust-curves/EB6.csv         3.0    3.35 -11.739933\n",
      "0    data/raw/thrust-curves/EB6.csv         3.5    3.35 -12.373260\n",
      "0    data/raw/thrust-curves/EB6.csv         4.0    3.35 -12.373260\n",
      "0   data/raw/thrust-curves/EC11.csv         2.5    3.45 -10.037450\n",
      "0   data/raw/thrust-curves/EC11.csv         3.0    3.35 -11.161857\n",
      "0   data/raw/thrust-curves/EC11.csv         3.5    3.35 -12.373260\n",
      "0   data/raw/thrust-curves/EC11.csv         4.0    3.35 -12.373260\n",
      "0   data/raw/thrust-curves/ED12.csv         2.5    3.45  -9.401513\n",
      "0   data/raw/thrust-curves/ED12.csv         3.0    3.35 -10.907803\n",
      "0   data/raw/thrust-curves/ED12.csv         3.5    3.35 -12.373260\n",
      "0   data/raw/thrust-curves/ED12.csv         4.0    3.35 -12.373260\n",
      "0   data/raw/thrust-curves/EF15.csv         2.5    3.45  -8.438776\n",
      "0   data/raw/thrust-curves/EF15.csv         3.0    3.35 -11.620502\n",
      "0   data/raw/thrust-curves/EF15.csv         3.5    3.35 -12.373260\n",
      "0   data/raw/thrust-curves/EF15.csv         4.0    3.35 -12.373260\n"
     ]
    }
   ],
   "source": [
    "# 2. using the experiment function defined in lander.py module, with params=params_default defined above\n",
    "# this experiment is run using the factor levels defiend in the cell above\n",
    "df_MN_experiment = lander.experiment(df_MN,params_default)\n",
    "print(df_MN_experiment)"
   ]
  },
  {
   "cell_type": "code",
   "execution_count": 8,
   "metadata": {},
   "outputs": [
    {
     "data": {
      "text/html": [
       "<div>\n",
       "<style scoped>\n",
       "    .dataframe tbody tr th:only-of-type {\n",
       "        vertical-align: middle;\n",
       "    }\n",
       "\n",
       "    .dataframe tbody tr th {\n",
       "        vertical-align: top;\n",
       "    }\n",
       "\n",
       "    .dataframe thead th {\n",
       "        text-align: right;\n",
       "    }\n",
       "</style>\n",
       "<table border=\"1\" class=\"dataframe\">\n",
       "  <thead>\n",
       "    <tr style=\"text-align: right;\">\n",
       "      <th></th>\n",
       "      <th>thrust_curve</th>\n",
       "      <th>t_ignition</th>\n",
       "      <th>T_land</th>\n",
       "      <th>V_land</th>\n",
       "    </tr>\n",
       "  </thead>\n",
       "  <tbody>\n",
       "    <tr>\n",
       "      <th>0</th>\n",
       "      <td>data/raw/thrust-curves/ATF22.csv</td>\n",
       "      <td>2.50</td>\n",
       "      <td>3.85</td>\n",
       "      <td>-2.857144</td>\n",
       "    </tr>\n",
       "    <tr>\n",
       "      <th>0</th>\n",
       "      <td>data/raw/thrust-curves/ATF22.csv</td>\n",
       "      <td>2.55</td>\n",
       "      <td>3.70</td>\n",
       "      <td>-3.987483</td>\n",
       "    </tr>\n",
       "    <tr>\n",
       "      <th>0</th>\n",
       "      <td>data/raw/thrust-curves/EF15.csv</td>\n",
       "      <td>1.60</td>\n",
       "      <td>4.90</td>\n",
       "      <td>-3.526382</td>\n",
       "    </tr>\n",
       "  </tbody>\n",
       "</table>\n",
       "</div>"
      ],
      "text/plain": [
       "                       thrust_curve  t_ignition  T_land    V_land\n",
       "0  data/raw/thrust-curves/ATF22.csv        2.50    3.85 -2.857144\n",
       "0  data/raw/thrust-curves/ATF22.csv        2.55    3.70 -3.987483\n",
       "0   data/raw/thrust-curves/EF15.csv        1.60    4.90 -3.526382"
      ]
     },
     "execution_count": 8,
     "metadata": {},
     "output_type": "execute_result"
    }
   ],
   "source": [
    "# 3. adjusting our T_ignition ranges\n",
    "\n",
    "factors_MN_modified =  {'thrust_curve': ['data/raw/thrust-curves/ATF22.csv','data/raw/thrust-curves/EB6.csv','data/raw/thrust-curves/EC11.csv',\n",
    "                             'data/raw/thrust-curves/ED12.csv','data/raw/thrust-curves/EF15.csv'],\n",
    "              't_ignition':[1,2,1.3,1.4,1.5,1.6,1.8,1.85,1.9,1.95,2.0,2.05,2.1,2.15,2.2,2.25,2.3,2.35,2.4,2.45,2.5,2.55,2.6,2.65,\n",
    "                            2.7,2.75,2.8,2.85,2.9,2.95,3.0]}\n",
    "\n",
    "df_MN_modified = lander.factorial_MN(factors_MN_modified)\n",
    "df_MN_experiment_modified = lander.experiment(df_MN_modified,params_default)\n",
    "df_MN_experiment_modified.loc[(df_MN_experiment_modified['V_land']>-4) & (df_MN_experiment_modified['V_land']<-2) ] #showing rows where V_land is in between -2 and -4\n",
    "                                                                                                                                \n",
    "\n",
    "#now we set a baseline params dictionary based on the results in the dataframe below:\n"
   ]
  },
  {
   "cell_type": "code",
   "execution_count": 9,
   "metadata": {},
   "outputs": [],
   "source": [
    "body_params_base = {'body_mass': 0.66,\n",
    "               'body_diameter': 0.0762,\n",
    "               'body_length': 0.5,\n",
    "               'bod_cd': 1.2}\n",
    "fin_params_base = {'fin_mass': 0.05,\n",
    "              'fin_height': 0.064,\n",
    "              'fin_width': 0.099,\n",
    "              'fin_cd': 1.20,\n",
    "              'n_fins': 3}  \n",
    "initial_params_base = {'position': 20,\n",
    "                  'velocity': 0,\n",
    "                  'acceleration': 0}\n",
    "env_params_base = {'density': 0.020,\n",
    "              'g': 3.711}   #gravitational acceleration on Mars\n",
    "sim_params_base = {'thruster_efficiency': 0.25,\n",
    "               'thrust_curve':'data/raw/thrust-curves/ATF22.csv',\n",
    "              't_ignition': 1.90,\n",
    "              't_step': 0.01,\n",
    "              't_final': 5}\n",
    "\n",
    "baseline_params=  {**body_params_base, **fin_params_base,**initial_params_base,**env_params_base,**sim_params_base}\n"
   ]
  },
  {
   "cell_type": "markdown",
   "metadata": {},
   "source": [
    "## Part 3: Main Effects and Interactions on 2^2 factorial Experiment"
   ]
  },
  {
   "cell_type": "markdown",
   "metadata": {},
   "source": [
    "### Run experiment"
   ]
  },
  {
   "cell_type": "code",
   "execution_count": 10,
   "metadata": {},
   "outputs": [
    {
     "name": "stdout",
     "output_type": "stream",
     "text": [
      "                       thrust_curve  t_ignition  T_land     V_land\n",
      "0  data/raw/thrust-curves/ATF22.csv         2.5     3.9  -2.432371\n",
      "1   data/raw/thrust-curves/EF15.csv         5.0     3.3 -12.189280\n"
     ]
    }
   ],
   "source": [
    "#2^2 Factorial Experiment\n",
    "\n",
    "factors_22_1 = {'thrust_curve': ['data/raw/thrust-curves/ATF22.csv','data/raw/thrust-curves/EF15.csv'], 't_ignition': [2.5,5.0]}\n",
    "\n",
    "df_exp1 = lander.factorial_22(factors_22_1)\n",
    "df_results1 = lander.experiment(df_exp1, baseline_params)\n",
    "print(df_results1)"
   ]
  },
  {
   "cell_type": "code",
   "execution_count": 11,
   "metadata": {},
   "outputs": [
    {
     "name": "stdout",
     "output_type": "stream",
     "text": [
      "                       thrust_curve  t_ignition  T_land     V_land\n",
      "0  data/raw/thrust-curves/ATF22.csv         5.0    3.30 -12.189280\n",
      "1   data/raw/thrust-curves/EF15.csv         2.5    3.42  -8.417597\n"
     ]
    }
   ],
   "source": [
    "factors_22_2 = {'thrust_curve': ['data/raw/thrust-curves/ATF22.csv','data/raw/thrust-curves/EF15.csv'], 't_ignition': [5.0,2.5]}\n",
    "df_exp2 = lander.factorial_22(factors_22_2)\n",
    "df_results2 = lander.experiment(df_exp2, baseline_params)\n",
    "print(df_results2)"
   ]
  },
  {
   "cell_type": "markdown",
   "metadata": {},
   "source": [
    "### Plot main effects and interactions"
   ]
  },
  {
   "cell_type": "code",
   "execution_count": 12,
   "metadata": {
    "scrolled": true
   },
   "outputs": [
    {
     "data": {
      "text/plain": [
       "<Figure size 576x432 with 0 Axes>"
      ]
     },
     "metadata": {},
     "output_type": "display_data"
    },
    {
     "data": {
      "image/png": "[encoded data removed]",
      "text/plain": [
       "<Figure size 432x288 with 1 Axes>"
      ]
     },
     "metadata": {
      "needs_background": "light"
     },
     "output_type": "display_data"
    }
   ],
   "source": [
    "x=df_results1['t_ignition'].values\n",
    "y1 = [df_results1['V_land'].values[0],df_results2['V_land'].values[0]]\n",
    "y2 = [df_results1['V_land'].values[1],df_results2['V_land'].values[1]]\n",
    "plt.figure(figsize=(8,6));\n",
    "fig, ax = plt.subplots();\n",
    "ax.plot(x, y1, '-b', label='ATF22');\n",
    "ax.plot(x,y2,'-r',label='EF15');\n",
    "ax.legend();\n",
    "plt.xlabel('T_ignition (s)',fontsize=15);\n",
    "plt.ylabel('Landing velocity(m/s)',fontsize=15);\n",
    "plt.title('Landing velocity vs T_ignition');"
   ]
  },
  {
   "cell_type": "markdown",
   "metadata": {},
   "source": [
    "## Part 4: Full Factorial"
   ]
  },
  {
   "cell_type": "markdown",
   "metadata": {},
   "source": [
    "### Run experiment (on Mars)"
   ]
  },
  {
   "cell_type": "code",
   "execution_count": 13,
   "metadata": {},
   "outputs": [
    {
     "name": "stdout",
     "output_type": "stream",
     "text": [
      "                        thrust_curve  t_ignition  T_land     V_land\n",
      "0   data/raw/thrust-curves/ATF22.csv        1.20    0.00   0.000000\n",
      "0   data/raw/thrust-curves/ATF22.csv        1.30    0.00   0.000000\n",
      "0   data/raw/thrust-curves/ATF22.csv        1.40    0.00   0.000000\n",
      "0   data/raw/thrust-curves/ATF22.csv        1.50    0.00   0.000000\n",
      "0   data/raw/thrust-curves/ATF22.csv        1.60    0.00   0.000000\n",
      "..                               ...         ...     ...        ...\n",
      "0    data/raw/thrust-curves/EF15.csv        2.80    3.35 -10.234145\n",
      "0    data/raw/thrust-curves/EF15.csv        2.85    3.35 -10.571143\n",
      "0    data/raw/thrust-curves/EF15.csv        2.90    3.35 -10.942371\n",
      "0    data/raw/thrust-curves/EF15.csv        2.95    3.35 -11.311921\n",
      "0    data/raw/thrust-curves/EF15.csv        3.00    3.35 -11.620502\n",
      "\n",
      "[150 rows x 4 columns]\n"
     ]
    }
   ],
   "source": [
    "# using the factors dictionary defined before:\n",
    "factors_MN_modified =  {'thrust_curve': ['data/raw/thrust-curves/ATF22.csv','data/raw/thrust-curves/EB6.csv','data/raw/thrust-curves/EC11.csv',\n",
    "                             'data/raw/thrust-curves/ED12.csv','data/raw/thrust-curves/EF15.csv'],\n",
    "              't_ignition':[1.2,1.3,1.4,1.5,1.6,1.8,1.85,1.9,1.95,2.0,2.05,2.1,2.15,2.2,2.25,2.3,2.35,2.4,2.45,2.5,2.55,2.6,2.65,\n",
    "                            2.7,2.75,2.8,2.85,2.9,2.95,3.0]}\n",
    "df_MN_modified = lander.factorial_MN(factors_MN_modified)\n",
    "df_MN_experiment_modified = lander.experiment(df_MN_modified,params_default)\n",
    "\n",
    "\n",
    "print(df_MN_experiment_modified)\n"
   ]
  },
  {
   "cell_type": "code",
   "execution_count": 14,
   "metadata": {},
   "outputs": [],
   "source": [
    "import seaborn as sns\n"
   ]
  },
  {
   "cell_type": "code",
   "execution_count": 15,
   "metadata": {},
   "outputs": [
    {
     "name": "stdout",
     "output_type": "stream",
     "text": [
      "t_ignition                             1.20       1.30       1.40       1.50  \\\n",
      "thrust_curve                                                                   \n",
      "data/raw/thrust-curves/ATF22.csv   0.000000   0.000000   0.000000   0.000000   \n",
      "data/raw/thrust-curves/EB6.csv   -11.787428 -11.603723 -11.603183 -11.602609   \n",
      "data/raw/thrust-curves/EC11.csv  -11.339780 -11.155498 -11.154523 -10.970030   \n",
      "data/raw/thrust-curves/ED12.csv  -10.171422  -9.985877  -9.800135  -9.614195   \n",
      "data/raw/thrust-curves/EF15.csv    0.000000  -6.498793  -5.570203  -4.455130   \n",
      "\n",
      "t_ignition                             1.60       1.80       1.85       1.90  \\\n",
      "thrust_curve                                                                   \n",
      "data/raw/thrust-curves/ATF22.csv   0.000000   0.000000   0.000000   0.000000   \n",
      "data/raw/thrust-curves/EB6.csv   -11.602000 -11.417406 -11.417054 -11.416694   \n",
      "data/raw/thrust-curves/EC11.csv  -10.968915 -10.782957 -10.598715 -10.598044   \n",
      "data/raw/thrust-curves/ED12.csv   -9.428060  -8.871032  -8.869779  -8.684259   \n",
      "data/raw/thrust-curves/EF15.csv   -3.526382  -4.634060  -4.908907  -5.191230   \n",
      "\n",
      "t_ignition                             1.95       2.00  ...       2.55  \\\n",
      "thrust_curve                                            ...              \n",
      "data/raw/thrust-curves/ATF22.csv   0.000000   0.000000  ...  -3.987483   \n",
      "data/raw/thrust-curves/EB6.csv   -11.416325 -11.415948  ... -11.234811   \n",
      "data/raw/thrust-curves/EC11.csv  -10.597355 -10.412992  ... -10.036551   \n",
      "data/raw/thrust-curves/ED12.csv   -8.682939  -8.497296  ...  -9.540623   \n",
      "data/raw/thrust-curves/EF15.csv   -5.443176  -5.734208  ...  -8.684798   \n",
      "\n",
      "t_ignition                             2.60       2.65       2.70       2.75  \\\n",
      "thrust_curve                                                                   \n",
      "data/raw/thrust-curves/ATF22.csv  -4.927782  -5.664908  -6.413234  -7.176200   \n",
      "data/raw/thrust-curves/EB6.csv   -11.167158 -11.234752 -11.304478 -11.375065   \n",
      "data/raw/thrust-curves/EC11.csv   -9.866124  -9.970712 -10.134181 -10.297692   \n",
      "data/raw/thrust-curves/ED12.csv   -9.680671  -9.780825  -9.924445 -10.070656   \n",
      "data/raw/thrust-curves/EF15.csv   -9.007238  -9.268867  -9.536455  -9.924367   \n",
      "\n",
      "t_ignition                             2.80       2.85       2.90       2.95  \\\n",
      "thrust_curve                                                                   \n",
      "data/raw/thrust-curves/ATF22.csv  -7.932753  -8.403317  -8.868697  -9.606640   \n",
      "data/raw/thrust-curves/EB6.csv   -11.446010 -11.516977 -11.588769 -11.662068   \n",
      "data/raw/thrust-curves/EC11.csv  -10.438560 -10.599555 -10.766749 -10.948110   \n",
      "data/raw/thrust-curves/ED12.csv  -10.219462 -10.345951 -10.510937 -10.692027   \n",
      "data/raw/thrust-curves/EF15.csv  -10.234145 -10.571143 -10.942371 -11.311921   \n",
      "\n",
      "t_ignition                             3.00  \n",
      "thrust_curve                                 \n",
      "data/raw/thrust-curves/ATF22.csv -10.066572  \n",
      "data/raw/thrust-curves/EB6.csv   -11.739933  \n",
      "data/raw/thrust-curves/EC11.csv  -11.161857  \n",
      "data/raw/thrust-curves/ED12.csv  -10.907803  \n",
      "data/raw/thrust-curves/EF15.csv  -11.620502  \n",
      "\n",
      "[5 rows x 30 columns]\n"
     ]
    }
   ],
   "source": [
    "result = lander.pivot_df(df_MN_experiment_modified, idx='thrust_curve', cols='t_ignition', vals='V_land')\n",
    "print(result)\n"
   ]
  },
  {
   "cell_type": "code",
   "execution_count": 38,
   "metadata": {
    "scrolled": false
   },
   "outputs": [
    {
     "data": {
      "text/plain": [
       "Text(68.99999999999999, 0.5, 'thrust_curve')"
      ]
     },
     "execution_count": 38,
     "metadata": {},
     "output_type": "execute_result"
    },
    {
     "data": {
      "image/png": "[encoded data removed]",
      "text/plain": [
       "<Figure size 720x576 with 2 Axes>"
      ]
     },
     "metadata": {
      "needs_background": "light"
     },
     "output_type": "display_data"
    }
   ],
   "source": [
    "fig,ax = plt.subplots(figsize=(10,8));\n",
    "title = 'T_ignition and Thrust Impact on V_land on Mars'\n",
    "plt.title(title,fontsize=15);\n",
    "ttl  = ax.title\n",
    "ttl.set_position([0.5,1.05])\n",
    "ax.set_xticks([])\n",
    "ax.set_yticks([])\n",
    "\n",
    "\n",
    "sns.heatmap(result,fmt='V_land')\n",
    "plt.xlabel('t_ignition',fontsize=15)\n",
    "plt.ylabel('thrust_curve',fontsize=15)\n",
    "#according to the heatmap below, the velocity that most satifies our landing velocity requirement(around -3m/s) corresponds to the \n",
    "#colorbar ranges from 0 to -3(can't be equal or larger than 0, otherwise it's not landing at all but flying upwards). Upon inspecting the heatmap, we find that the best design is to \n",
    "#use EF15 thruster with a T_ignition between 1.55 and 1.65 or use ATF22 thruster with T_ignition between 2.4 and 2.55\n"
   ]
  },
  {
   "cell_type": "markdown",
   "metadata": {},
   "source": [
    "### Part 5"
   ]
  },
  {
   "cell_type": "code",
   "execution_count": 17,
   "metadata": {},
   "outputs": [],
   "source": [
    "#modifying our factorial_MN function\n",
    "def factorial_env(factors):\n",
    "    df = pd.DataFrame()\n",
    "    for i in factors['body_mass']:\n",
    "        for j in factors['position']:\n",
    "            data = {'body_mass':[i],'position':[j]}\n",
    "            data_frame = pd.DataFrame(data)\n",
    "            df = df.append(data_frame)\n",
    "    return df"
   ]
  },
  {
   "cell_type": "code",
   "execution_count": 18,
   "metadata": {},
   "outputs": [
    {
     "data": {
      "text/html": [
       "<div>\n",
       "<style scoped>\n",
       "    .dataframe tbody tr th:only-of-type {\n",
       "        vertical-align: middle;\n",
       "    }\n",
       "\n",
       "    .dataframe tbody tr th {\n",
       "        vertical-align: top;\n",
       "    }\n",
       "\n",
       "    .dataframe thead th {\n",
       "        text-align: right;\n",
       "    }\n",
       "</style>\n",
       "<table border=\"1\" class=\"dataframe\">\n",
       "  <thead>\n",
       "    <tr style=\"text-align: right;\">\n",
       "      <th></th>\n",
       "      <th>body_mass</th>\n",
       "      <th>position</th>\n",
       "    </tr>\n",
       "  </thead>\n",
       "  <tbody>\n",
       "    <tr>\n",
       "      <th>0</th>\n",
       "      <td>0.16</td>\n",
       "      <td>5</td>\n",
       "    </tr>\n",
       "    <tr>\n",
       "      <th>0</th>\n",
       "      <td>0.16</td>\n",
       "      <td>10</td>\n",
       "    </tr>\n",
       "    <tr>\n",
       "      <th>0</th>\n",
       "      <td>0.16</td>\n",
       "      <td>15</td>\n",
       "    </tr>\n",
       "    <tr>\n",
       "      <th>0</th>\n",
       "      <td>0.16</td>\n",
       "      <td>20</td>\n",
       "    </tr>\n",
       "    <tr>\n",
       "      <th>0</th>\n",
       "      <td>0.16</td>\n",
       "      <td>25</td>\n",
       "    </tr>\n",
       "    <tr>\n",
       "      <th>0</th>\n",
       "      <td>0.16</td>\n",
       "      <td>30</td>\n",
       "    </tr>\n",
       "    <tr>\n",
       "      <th>0</th>\n",
       "      <td>0.26</td>\n",
       "      <td>5</td>\n",
       "    </tr>\n",
       "    <tr>\n",
       "      <th>0</th>\n",
       "      <td>0.26</td>\n",
       "      <td>10</td>\n",
       "    </tr>\n",
       "    <tr>\n",
       "      <th>0</th>\n",
       "      <td>0.26</td>\n",
       "      <td>15</td>\n",
       "    </tr>\n",
       "    <tr>\n",
       "      <th>0</th>\n",
       "      <td>0.26</td>\n",
       "      <td>20</td>\n",
       "    </tr>\n",
       "  </tbody>\n",
       "</table>\n",
       "</div>"
      ],
      "text/plain": [
       "   body_mass  position\n",
       "0       0.16         5\n",
       "0       0.16        10\n",
       "0       0.16        15\n",
       "0       0.16        20\n",
       "0       0.16        25\n",
       "0       0.16        30\n",
       "0       0.26         5\n",
       "0       0.26        10\n",
       "0       0.26        15\n",
       "0       0.26        20"
      ]
     },
     "execution_count": 18,
     "metadata": {},
     "output_type": "execute_result"
    }
   ],
   "source": [
    "\n",
    "factors_design = {'body_mass': [0.16,0.26,0.36,0.46,0.56,0.66,0.76\n",
    "                             ],\n",
    "              'position':[5,10,15,20,25,30]}\n",
    "\n",
    "df_design = factorial_env(factors_design)\n",
    "df_design[0:10]"
   ]
  },
  {
   "cell_type": "markdown",
   "metadata": {},
   "source": [
    "### Get best design"
   ]
  },
  {
   "cell_type": "code",
   "execution_count": 19,
   "metadata": {},
   "outputs": [
    {
     "name": "stdout",
     "output_type": "stream",
     "text": [
      "   body_mass  position  T_land     V_land\n",
      "0       0.16         5    1.70  -6.289093\n",
      "0       0.16        10    2.40  -8.850710\n",
      "0       0.16        15    2.90 -10.663451\n",
      "0       0.16        20    3.35 -10.314719\n",
      "0       0.16        25    0.00   0.000000\n",
      "0       0.16        30    0.00   0.000000\n",
      "0       0.26         5    1.70  -6.293863\n",
      "0       0.26        10    2.35  -8.681267\n",
      "0       0.26        15    2.90 -10.687268\n",
      "0       0.26        20    3.35 -10.830255\n",
      "0       0.26        25    3.90  -6.301911\n",
      "0       0.26        30    0.00   0.000000\n",
      "0       0.36         5    1.70  -6.296766\n",
      "0       0.36        10    2.35  -8.688996\n",
      "0       0.36        15    2.90 -10.701806\n",
      "0       0.36        20    3.35 -11.143878\n",
      "0       0.36        25    3.85  -8.113623\n",
      "0       0.36        30    4.60  -5.271405\n",
      "0       0.46         5    1.70  -6.298718\n",
      "0       0.46        10    2.35  -8.694199\n",
      "0       0.46        15    2.90 -10.711603\n",
      "0       0.46        20    3.35 -11.354786\n",
      "0       0.46        25    3.80  -9.280351\n",
      "0       0.46        30    4.40  -7.686300\n",
      "0       0.56         5    1.70  -6.300122\n",
      "0       0.56        10    2.35  -8.697941\n",
      "0       0.56        15    2.90 -10.718654\n",
      "0       0.56        20    3.35 -11.506339\n",
      "0       0.56        25    3.80  -9.957802\n",
      "0       0.56        30    4.35  -8.973382\n",
      "0       0.66         5    1.70  -6.301180\n",
      "0       0.66        10    2.35  -8.700762\n",
      "0       0.66        15    2.90 -10.723971\n",
      "0       0.66        20    3.35 -11.620502\n",
      "0       0.66        25    3.80 -10.468294\n",
      "0       0.66        30    4.30  -9.899503\n",
      "0       0.76         5    1.70  -6.302005\n",
      "0       0.76        10    2.35  -8.702964\n",
      "0       0.76        15    2.90 -10.728124\n",
      "0       0.76        20    3.35 -11.709594\n",
      "0       0.76        25    3.80 -10.866787\n",
      "0       0.76        30    4.25 -10.583324\n"
     ]
    }
   ],
   "source": [
    "env_experiment = lander.experiment_env(df_design, params_default);\n",
    "print(env_experiment);"
   ]
  },
  {
   "cell_type": "code",
   "execution_count": 29,
   "metadata": {},
   "outputs": [
    {
     "data": {
      "image/png": "[encoded data removed]",
      "text/plain": [
       "<Figure size 720x576 with 2 Axes>"
      ]
     },
     "metadata": {
      "needs_background": "light"
     },
     "output_type": "display_data"
    }
   ],
   "source": [
    "results_env = lander.pivot_df(env_experiment,idx='position', cols='body_mass', vals='V_land')\n",
    "plt.figure(figsize=(10,8));\n",
    "lander.pivoted2contourf(results_env);\n",
    "plt.xlabel('body_mass',fontsize=15);\n",
    "plt.ylabel('position',fontsize=15);\n",
    "plt.yticks(np.arange(5,30,1));\n",
    "\n",
    "plt.title('Position and Body Mass Impact on Landing Velocity on Mars',fontsize=15);\n",
    "# same as in the heatmap above, the colorbar values indicate values of V_land\n",
    "#Upon inspecting the colorfilled map below, we observe that with an initial altitude of 23.5 and 24.5 meters and a body mass\n",
    "#between 0.2 and 0.35 while fixing all other environment variables fixed, the response landing velocity is in the acceptable range (no less than -3).\n",
    "                                       "
   ]
  },
  {
   "cell_type": "markdown",
   "metadata": {},
   "source": [
    "### Run experiment (on Earth)"
   ]
  },
  {
   "cell_type": "code",
   "execution_count": 21,
   "metadata": {},
   "outputs": [],
   "source": [
    "body_params = {'body_mass': 0.66,\n",
    "               'body_diameter': 0.0762,\n",
    "               'body_length': 0.5,\n",
    "               'bod_cd': 1.2}\n",
    "fin_params = {'fin_mass': 0.05,\n",
    "              'fin_height': 0.064,\n",
    "              'fin_width': 0.099,\n",
    "              'fin_cd': 1.20,\n",
    "              'n_fins': 3}  \n",
    "initial_params = {'position': 20,\n",
    "                  'velocity': 0,\n",
    "                  'acceleration': 0}\n",
    "env_params = {'density': 1.23,\n",
    "              'g': 9.81}  \n",
    "sim_params = {'thruster_efficiency': 0.25,\n",
    "               'thrust_curve':'data/raw/thrust-curves/ATF22.csv',\n",
    "              't_ignition': 3.0,\n",
    "              't_step': 0.05,\n",
    "              't_final': 6}\n",
    "\n",
    "params_earth =  {**body_params, **fin_params,**initial_params,**env_params,**sim_params}\n",
    "\n"
   ]
  },
  {
   "cell_type": "code",
   "execution_count": 22,
   "metadata": {},
   "outputs": [],
   "source": [
    "factors_earth =  {'thrust_curve': ['data/raw/thrust-curves/ATF22.csv','data/raw/thrust-curves/EB6.csv','data/raw/thrust-curves/EC11.csv',\n",
    "                             'data/raw/thrust-curves/ED12.csv','data/raw/thrust-curves/EF15.csv'],\n",
    "              't_ignition':[1.2,1.3,1.4,1.5,1.6,1.8,1.85,1.9,1.95,2.0,2.05,2.1,2.15,2.2,2.25,2.3,2.35,2.4,2.45,2.5,2.55,2.6,2.65,\n",
    "                            2.7,2.75,2.8,2.85,2.9,2.95,3.0]}\n",
    "df_earth = lander.factorial_MN(factors_earth)\n",
    "experiment_earth = lander.experiment(df_earth,params_earth)\n"
   ]
  },
  {
   "cell_type": "code",
   "execution_count": 23,
   "metadata": {},
   "outputs": [],
   "source": [
    "result_earth = lander.pivot_df(experiment_earth, idx='thrust_curve', cols='t_ignition', vals='V_land')"
   ]
  },
  {
   "cell_type": "markdown",
   "metadata": {},
   "source": [
    "### Plot design space"
   ]
  },
  {
   "cell_type": "code",
   "execution_count": 37,
   "metadata": {},
   "outputs": [
    {
     "data": {
      "text/plain": [
       "Text(68.99999999999999, 0.5, 'thrust_curve')"
      ]
     },
     "execution_count": 37,
     "metadata": {},
     "output_type": "execute_result"
    },
    {
     "data": {
      "image/png": "[encoded data removed]",
      "text/plain": [
       "<Figure size 720x576 with 2 Axes>"
      ]
     },
     "metadata": {
      "needs_background": "light"
     },
     "output_type": "display_data"
    }
   ],
   "source": [
    "# first heatmap \n",
    "fig,ax = plt.subplots(figsize=(10,8));\n",
    "title = 'T_ignition and Thrust Impact on V_land on Earth'\n",
    "plt.title(title,fontsize=16);\n",
    "ttl  = ax.title\n",
    "ttl.set_position([0.5,1.05])\n",
    "ax.set_xticks([])\n",
    "ax.set_yticks([])\n",
    "\n",
    "sns.heatmap(result_earth,fmt='V_land')\n",
    "plt.xlabel('t_ignition',fontsize=15)\n",
    "plt.ylabel('thrust_curve',fontsize=15)"
   ]
  },
  {
   "cell_type": "code",
   "execution_count": 25,
   "metadata": {},
   "outputs": [],
   "source": [
    "factors_earth2 ={ 'body_mass': [0.06,0.16,0.26,0.36,0.46,0.56,0.66,0.76\n",
    "                             ],\n",
    "              'position':[5,10,15,20,25,30]}\n",
    "df_earth2 = lander.factorial_env(factors_earth2)\n",
    "experiment_earth2 = lander.experiment_env(df_earth2,params_earth)"
   ]
  },
  {
   "cell_type": "code",
   "execution_count": 26,
   "metadata": {},
   "outputs": [],
   "source": [
    "result_earth2 = lander.pivot_df(experiment_earth2, idx='position', cols='body_mass', vals='V_land')"
   ]
  },
  {
   "cell_type": "code",
   "execution_count": 36,
   "metadata": {},
   "outputs": [
    {
     "data": {
      "text/plain": [
       "Text(69.0, 0.5, 'position')"
      ]
     },
     "execution_count": 36,
     "metadata": {},
     "output_type": "execute_result"
    },
    {
     "data": {
      "image/png": "[encoded data removed]",
      "text/plain": [
       "<Figure size 720x576 with 2 Axes>"
      ]
     },
     "metadata": {
      "needs_background": "light"
     },
     "output_type": "display_data"
    }
   ],
   "source": [
    "#2nd heatmap\n",
    "fig,ax = plt.subplots(figsize=(10,8));\n",
    "title = 'Initial Altitude and Body Mass Impact on V_land on Earth'\n",
    "plt.title(title,fontsize=16);\n",
    "ttl  = ax.title\n",
    "ttl.set_position([0.5,1.05])\n",
    "ax.set_xticks([])\n",
    "ax.set_yticks([])\n",
    "\n",
    "sns.heatmap(result_earth2,fmt='V_land')\n",
    "plt.xlabel('body_mass',fontsize=15)\n",
    "plt.ylabel('position',fontsize=15)\n",
    "# comparing the heatmap below to that in the cell above, we identify that with all other parameters fixed, initial altitude and \n",
    "# body mass of the lander have a greater imapct on landing velocity when the lander is on earth because the density on earth is less\n",
    "# than that on Mars, while gravity on earth is greater than that on Mars. \n"
   ]
  },
  {
   "cell_type": "code",
   "execution_count": null,
   "metadata": {},
   "outputs": [],
   "source": []
  }
 ],
 "metadata": {
  "kernelspec": {
   "display_name": "Python 3",
   "language": "python",
   "name": "python3"
  },
  "language_info": {
   "codemirror_mode": {
    "name": "ipython",
    "version": 3
   },
   "file_extension": ".py",
   "mimetype": "text/x-python",
   "name": "python",
   "nbconvert_exporter": "python",
   "pygments_lexer": "ipython3",
   "version": "3.7.6"
  }
 },
 "nbformat": 4,
 "nbformat_minor": 4
}
